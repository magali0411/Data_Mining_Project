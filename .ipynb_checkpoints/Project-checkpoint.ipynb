{
 "cells": [
  {
   "cell_type": "markdown",
   "metadata": {},
   "source": [
    "# Data Sciences project"
   ]
  },
  {
   "cell_type": "markdown",
   "metadata": {},
   "source": [
    "[OS] Pour importer de dataset.csv en temps que dataframe, attention au chemin pour votre fichier"
   ]
  },
  {
   "cell_type": "code",
   "execution_count": null,
   "metadata": {},
   "outputs": [],
   "source": [
    "import pandas as pd\n",
    "import csv, sys\n",
    "dictline = {}\n",
    "with open (\"./ApprentissageEtLabel/dataset.csv\", \"r\") as file:\n",
    "    for num, line in enumerate(file,1):\n",
    "        dictline[num]= line\n",
    "#print(dictline)\n",
    "df = pd.DataFrame.from_dict(dictline, orient='index')\n",
    "display(df.head())"
   ]
  }
 ],
 "metadata": {
  "kernelspec": {
   "display_name": "Python 3",
   "language": "python",
   "name": "python3"
  },
  "language_info": {
   "codemirror_mode": {
    "name": "ipython",
    "version": 3
   },
   "file_extension": ".py",
   "mimetype": "text/x-python",
   "name": "python",
   "nbconvert_exporter": "python",
   "pygments_lexer": "ipython3",
   "version": "3.7.2"
  }
 },
 "nbformat": 4,
 "nbformat_minor": 2
}
